{
 "cells": [
  {
   "cell_type": "code",
   "execution_count": 4,
   "metadata": {},
   "outputs": [
    {
     "name": "stderr",
     "output_type": "stream",
     "text": [
      "Unused kwargs: ['_load_in_4bit', '_load_in_8bit', 'quant_method']. These kwargs are not used in <class 'transformers.utils.quantization_config.BitsAndBytesConfig'>.\n",
      "`low_cpu_mem_usage` was None, now set to True since model is quantized.\n"
     ]
    },
    {
     "name": "stdout",
     "output_type": "stream",
     "text": [
      "[0, 9, 0, 29, 33, 15, 4, 3, 1, 30, 0, 0, 1, 2, 6, 45, 36, 45, 38, 39, 44, 6, 10, 47, 28, 16, 13, 44, 0, 0, 31, 18, 36, 19, 47, 4, 1, 16, 29, 6, 14, 8, 29, 41, 0, 0, 41, 21, 49, 35, 40, 44, 0, 0, 46, 16, 49, 2, 20, 33, 41, 0, 0, 42, 2, 46, 2, 1, 4, 43, 3, 39, 0, 0, 5, 23, 1, 11, 39, 6, 1, 11, 46, 1, 36, 5, 32, 1, 33, 47, 0, 0, 10, 1, 33, 24, 13, 21, 43, 1]\n"
     ]
    }
   ],
   "source": [
    "from tomato.encoders.encoder import Encoder\n",
    "\n",
    "encoder = Encoder()\n",
    "\n",
    "plaintext = \"help\"\n",
    "stego_text = encoder.encode()\n",
    "print(stego_text)\n",
    "deocded = encoder.decode(stego_text)\n",
    "print(deocded)"
   ]
  },
  {
   "cell_type": "code",
   "execution_count": null,
   "metadata": {},
   "outputs": [],
   "source": []
  }
 ],
 "metadata": {
  "kernelspec": {
   "display_name": "Python 3",
   "language": "python",
   "name": "python3"
  },
  "language_info": {
   "codemirror_mode": {
    "name": "ipython",
    "version": 3
   },
   "file_extension": ".py",
   "mimetype": "text/x-python",
   "name": "python",
   "nbconvert_exporter": "python",
   "pygments_lexer": "ipython3",
   "version": "3.10.12"
  }
 },
 "nbformat": 4,
 "nbformat_minor": 2
}
